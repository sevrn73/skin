{
 "cells": [
  {
   "cell_type": "markdown",
   "metadata": {},
   "source": [
    "Реализация модуля по расчету производительности скважин различного заканчивания на псевдоустановившемся режиме.\n",
    "\n",
    "Задача со звездочкой к курсу \"Методы математической физики в нефтяном инжиниринге\".\n",
    "\n",
    "Выполнил Свойкин Е.В."
   ]
  },
  {
   "cell_type": "code",
   "execution_count": 19,
   "metadata": {},
   "outputs": [],
   "source": [
    "import math as m"
   ]
  },
  {
   "cell_type": "code",
   "execution_count": 20,
   "metadata": {},
   "outputs": [],
   "source": [
    "def q_well(k: float, h: float, Pres: float, Pwf: float, mu: float, B: float, re: float, rw: float, S: float):\n",
    "    \"\"\"\n",
    "    Функция для расчета производительности скважины на псевдоустановившемся режиме\n",
    "\n",
    "    Parameters\n",
    "    ----------\n",
    "    :param k: проницаемость пласта, мД\n",
    "    :param h: толщина пласта, м\n",
    "    :param Pres: среднее пластовое давление, атм\n",
    "    :param Pwf: забойное давление, атм\n",
    "    :param mu: вякость нефти, сПз\n",
    "    :param B: объемный коэффициент, м3/м3\n",
    "    :param re: радиус контура, м\n",
    "    :param rw: радиус скважины, м\n",
    "    :param S: скин фактора (расчетный)\n",
    "\n",
    "    :return q: производительность скважины, м3/сут\n",
    "\n",
    "    ----------\n",
    "    \"\"\"\n",
    "    return k*h*(Pres-Pwf)/(18.4*mu*B*(m.log1p(re/rw)+S-0.75))"
   ]
  },
  {
   "cell_type": "markdown",
   "metadata": {},
   "source": [
    "Рассчитаем производительность скважин различного заканчивания на псевдоустановивщемся режиме"
   ]
  },
  {
   "cell_type": "code",
   "execution_count": 21,
   "metadata": {},
   "outputs": [],
   "source": [
    "# Исходные данные\n",
    "k = 10 # мД\n",
    "h = 10 # м\n",
    "Pres = 250 # атм\n",
    "Pwf = 50 # атм\n",
    "mu = 1.01 # сПз\n",
    "B = 1.228 # м3/м3\n",
    "re = 500 # м\n",
    "rw = 0.108 # м\n",
    "\n",
    "# Параметры для расчета скин-фактора\n",
    "kd = k/2 # измененная проницаемость, мД\n",
    "rd = rw*3 # радиус зоны с проницаемостью, измененной по сравнению с проницаемостью пласта, м\n",
    "model = 0 # Корреляция Papatzacos\n",
    "hw = 3*h/4 # мощность вскрытого интервала, открытого для притока (0<=hw<=h), м\n",
    "zw = h/2 # расстояние от подошвы пласта до центра интервала, открытого для притока (hw/2<=zw<=h-hw/2), м\n",
    "kh = k # проницаемость пласта в латеральном направлении, мД\n",
    "kv = k/10 # проницаемость пласта в вертикальном направлении, мД\n",
    "y = 1 # коэффициент несовершенства степени вскрытия"
   ]
  },
  {
   "cell_type": "markdown",
   "metadata": {},
   "source": [
    "Необсаженная вертикальная скважина"
   ]
  },
  {
   "cell_type": "code",
   "execution_count": 22,
   "metadata": {},
   "outputs": [
    {
     "name": "stdout",
     "output_type": "stream",
     "text": [
      "Производительность совершенной по степени вскрытия вертикальной скважины - 96.55225418339903 м3/сут\n",
      "Производительность несовершенной по степени вскрытия вертикальной скважины - 72.55445671914973 м3/сут\n"
     ]
    }
   ],
   "source": [
    "from uncased_vertical_well import UncasedVW\n",
    "uncased_vertical_well = UncasedVW()\n",
    "# Совершенная скважина по степени вскрытия\n",
    "q_perf_uncased_vertical_well = q_well(k, h, Pres, Pwf, mu, B, re, rw, uncased_vertical_well.perfect_s(k, kd, rw, rd))\n",
    "print(f'Производительность совершенной по степени вскрытия вертикальной скважины - {q_perf_uncased_vertical_well} м3/сут')\n",
    "# Несовершенная скважина по степени всерытия\n",
    "q_unperf_uncased_vertical_well = q_well(k, h, Pres, Pwf, mu, B, re, rw, uncased_vertical_well.unperfect_s(model, h, hw, rw, zw, kh, kv, k, kd, rd, y))\n",
    "print(f'Производительность несовершенной по степени вскрытия вертикальной скважины - {q_unperf_uncased_vertical_well} м3/сут')"
   ]
  },
  {
   "cell_type": "code",
   "execution_count": 23,
   "metadata": {},
   "outputs": [],
   "source": [
    "# Параметры для расчета скин-фактора\n",
    "phi = 0 # фазировка перфорационных зарядов, градусы\n",
    "Lp = 0.1 # длина перфорационных каналов, м\n",
    "rp = 0.0005 # радиус перфорационных каналов, м\n",
    "ns = 10 # плотность перфорационных отверстий, отв/м\n",
    "kcz = 2*k # проницаемость зоны разрушения породы вокруг перфорационных каналов, мД\n",
    "rcz = 0.2 # радиус зоны разрушения породы вокруг перфорационных каналов, м"
   ]
  },
  {
   "cell_type": "markdown",
   "metadata": {},
   "source": [
    "Перфорированная вертикальная скважина"
   ]
  },
  {
   "cell_type": "code",
   "execution_count": 24,
   "metadata": {},
   "outputs": [
    {
     "name": "stdout",
     "output_type": "stream",
     "text": [
      "Производительность полностью перфорированной вертикальной скважины - 242.2825532326301 м3/сут\n",
      "Производительность частично перфорированной вертикальной скважины - 182.59773123297762 м3/сут\n"
     ]
    }
   ],
   "source": [
    "from perforated_vertical_well import PerfVW\n",
    "perf_vertical_well = PerfVW()\n",
    "# Полностью перфорированная скважина\n",
    "q_full_perf_vertical_well = q_well(k, h, Pres, Pwf, mu, B, re, rw, perf_vertical_well.full_perf_s(k, kd, rw, rd, phi, Lp, rp, ns, kh, kv, kcz, rcz))\n",
    "print(f'Производительность полностью перфорированной вертикальной скважины - {q_full_perf_vertical_well} м3/сут')\n",
    "# Частично перфорированная скважина\n",
    "q_part_perf_vertical_well = q_well(k, h, Pres, Pwf, mu, B, re, rw, perf_vertical_well.part_perf_s(k, kd, rw, rd, phi, Lp, rp, ns, kh, kv, kcz, rcz, h, hw, model, zw, 1))\n",
    "print(f'Производительность частично перфорированной вертикальной скважины - {q_part_perf_vertical_well} м3/сут')\n"
   ]
  },
  {
   "cell_type": "code",
   "execution_count": 25,
   "metadata": {},
   "outputs": [],
   "source": [
    "# Параметры для расчет скин-фактора\n",
    "teta = 60 # угол отклонения ствола скважины от вертикали, градусы\n",
    "Lwpc = 200 # длина наклонно-направленной скважины в пределах продуктивного пласта, открытая для притока флюида, м"
   ]
  },
  {
   "cell_type": "markdown",
   "metadata": {},
   "source": [
    "Необсаженная наклонно-направленная скважина"
   ]
  },
  {
   "cell_type": "code",
   "execution_count": 26,
   "metadata": {},
   "outputs": [
    {
     "name": "stdout",
     "output_type": "stream",
     "text": [
      "Производительность совершенной по степени вскрытия необсаженной наклонно-направленной скважины - 137.57663591705716 м3/сут\n",
      "Производительность несовершенной по степени вскрытия наклонно-направленной скважины - 199.43209342482893 м3/сут\n"
     ]
    }
   ],
   "source": [
    "from unanchored_directional_well import UnanchDW\n",
    "unanchored_directional_well = UnanchDW()\n",
    "# Совершенная скважина по степени вскрытия\n",
    "q_perf_directional_well = q_well(k, h, Pres, Pwf, mu, B, re, rw, unanchored_directional_well.perfect_s(k, kd, rw, rd, model, teta, kh, kv, h, hw, zw))\n",
    "print(f'Производительность совершенной по степени вскрытия необсаженной наклонно-направленной скважины - {q_perf_directional_well} м3/сут')\n",
    "# Несовершенная скважина по степени вскрытия\n",
    "q_unperf_directional_well = q_well(k, h, Pres, Pwf, mu, B, re, rw, unanchored_directional_well.unperfect_s(k, kd, rw, rd, h, Lwpc, teta, kh, kv, hw, zw))\n",
    "print(f'Производительность несовершенной по степени вскрытия наклонно-направленной скважины - {q_unperf_directional_well} м3/сут')"
   ]
  },
  {
   "cell_type": "markdown",
   "metadata": {},
   "source": [
    "Перфорированная наклонно-направленная скавжина"
   ]
  },
  {
   "cell_type": "code",
   "execution_count": 27,
   "metadata": {},
   "outputs": [
    {
     "name": "stdout",
     "output_type": "stream",
     "text": [
      "Производительность совершенной по степени вскрытия необсаженной наклонно-направленной скважины - 75.74668362872804 м3/сут\n",
      "Производительность совершенной по степени вскрытия необсаженной наклонно-направленной скважины - 106.81704819641227 м3/сут\n"
     ]
    }
   ],
   "source": [
    "from perforated_directional_well import PerfDW\n",
    "perforated_directional_well = PerfDW()\n",
    "# Полностью перфорированная скважина\n",
    "q_perf_directional_well = q_well(k, h, Pres, Pwf, mu, B, re, rw, perforated_directional_well.full_perf_s(k, kd, rw, rd, teta, phi, Lp, rp, ns, kh, kv, kcz, rcz, model, h, hw, zw))\n",
    "print(f'Производительность полностью перфорированной наклонно-направленной скважины - {q_perf_directional_well} м3/сут')\n",
    "# Частично перфорированная скважина\n",
    "q_perf_directional_well = q_well(k, h, Pres, Pwf, mu, B, re, rw, perforated_directional_well.part_perf_s(k, kd, rw, rd, teta, phi, Lp, rp, ns, kh, kv, kcz, rcz, h, hw, zw))\n",
    "print(f'Производительность частично перфорированной наклонно-направленной скважины - {q_perf_directional_well} м3/сут')"
   ]
  }
 ],
 "metadata": {
  "kernelspec": {
   "display_name": "Python 3",
   "language": "python",
   "name": "python3"
  },
  "language_info": {
   "codemirror_mode": {
    "name": "ipython",
    "version": 3
   },
   "file_extension": ".py",
   "mimetype": "text/x-python",
   "name": "python",
   "nbconvert_exporter": "python",
   "pygments_lexer": "ipython3",
   "version": "3.8.5"
  }
 },
 "nbformat": 4,
 "nbformat_minor": 4
}
